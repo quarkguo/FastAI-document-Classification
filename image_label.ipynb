{
 "cells": [
  {
   "cell_type": "code",
   "execution_count": 1,
   "metadata": {},
   "outputs": [],
   "source": [
    "%reload_ext autoreload\n",
    "%autoreload 2\n",
    "%matplotlib inline\n",
    "from ipywidgets import widgets\n",
    "from IPython.display import display\n",
    "import pandas as pd\n",
    "import numpy as np\n",
    "import glob\n",
    "from fastai.vision import *\n",
    "from fastai.metrics import error_rate"
   ]
  },
  {
   "cell_type": "code",
   "execution_count": 4,
   "metadata": {},
   "outputs": [
    {
     "data": {
      "application/vnd.jupyter.widget-view+json": {
       "model_id": "1062d2795cee4cd0bdd24c9d1fe1c55f",
       "version_major": 2,
       "version_minor": 0
      },
      "text/plain": [
       "VBox(children=(HBox(children=(Label(value=''), Button(description='next', style=ButtonStyle()), Button(descrip…"
      ]
     },
     "metadata": {},
     "output_type": "display_data"
    }
   ],
   "source": [
    "out = widgets.Output()\n",
    "label_dummy=widgets.Label(value=\"\")\n",
    "label_index=widgets.Label(value=\"Index #\")\n",
    "label_left=widgets.Label(value=\"left\")\n",
    "label_right=widgets.Label(value=\"right\")\n",
    "label_status=widgets.Label(value=\"status\")\n",
    "bnext=widgets.Button(description=\"next\")\n",
    "bprevious=widgets.Button(description=\"previous\")\n",
    "bmerge=widgets.Button(description=\"merge\")\n",
    "bdiscard=widgets.Button(description=\"dummy\")\n",
    "img_left=widgets.Image(\n",
    "    value= open(\"cover.jpeg\", \"rb\").read(),\n",
    "    format='png',\n",
    "    width=320,\n",
    "    height=500,\n",
    ")\n",
    "img_right=widgets.Image(\n",
    "    value= open(\"cover.jpeg\", \"rb\").read(),\n",
    "    format='png',\n",
    "    width=320,\n",
    "    height=500,\n",
    ")\n",
    "ctrlpanel=widgets.HBox(children=[label_dummy,bnext,bprevious,bmerge,bdiscard,label_index])\n",
    "leftpanel=widgets.VBox(children=[label_left,img_left])\n",
    "rightpanel=widgets.VBox(children=[label_right,img_right])\n",
    "imagepanel=widgets.HBox(children=[leftpanel,rightpanel,label_status])\n",
    "all_widgets=widgets.VBox(children=[ctrlpanel,imagepanel])\n",
    "display(all_widgets)\n",
    "label_data=[]\n",
    "curr_index=-1\n",
    "def drawData(df_data,index):\n",
    "    img=[]\n",
    "    title=[]\n",
    "    leftn=\"imagedata/1988/pdf/\"+df_data['label'].values[index]+\"/\"+df_data['label'].values[index]+\".png\"\n",
    "    #img.append(open_image(leftn))\n",
    "    img_left.value= open(leftn,'rb').read()\n",
    "    label_left.value=df_data['label'].values[index]\n",
    "    rightn=\"imagedata/1988/pdf/\"+df_data['pred'].values[index]+\"/\"+df_data['pred'].values[index]+\".png\"\n",
    "    img_right.value=open(rightn,'rb').read()\n",
    "    #img.append(open_image(rightn))\n",
    "    label_right.value=df_data['pred'].values[index]\n",
    "    total=len(df_data)\n",
    "    label_index.value=\" Current Record Index:\"+str(index) + \"  total:\"+str(total) +\"          \"\n",
    "    label_status.value=\"Existing Label:\"\n",
    "    for ele in label_data:\n",
    "        if(ele[\"index\"]==curr_index):\n",
    "            label_status.value=\"Existing Label:\"+ele[\"status\"]\n",
    "def prev_click(ev):\n",
    "    global curr_index\n",
    "    curr_index=curr_index-1\n",
    "    if(curr_index<0):\n",
    "        curr_index=0\n",
    "    drawData(df_err,curr_index)\n",
    "def next_click(ev):\n",
    "    global curr_index\n",
    "    curr_index=1+curr_index\n",
    "    drawData(df_err,curr_index)\n",
    "def merge_click(ev):\n",
    "    global curr_index\n",
    "    label_data.append({\"index\":curr_index,\"status\":\"merge\"})\n",
    "    for ele in label_data:\n",
    "       # print(ele)\n",
    "        if(ele[\"index\"]==curr_index):\n",
    "            label_status.value=\"Existing Label:\"+ele[\"status\"]\n",
    "        else:\n",
    "            label_status.value=\"Existing Label:\"\n",
    "def dummy_click(ev):\n",
    "    global curr_index\n",
    "    label_data.append({\"index\":curr_index,\"status\":\"dummy\"})\n",
    "    for ele in label_data:\n",
    "       # print(ele)\n",
    "        if(ele[\"index\"]==curr_index):\n",
    "            label_status.value=\"Existing Label:\"+ele[\"status\"]\n",
    "        else:\n",
    "            label_status.value=\"Existing Label:\"\n",
    "bnext.on_click(next_click)\n",
    "bmerge.on_click(merge_click)\n",
    "bdiscard.on_click(dummy_click)\n",
    "bprevious.on_click(prev_click)"
   ]
  },
  {
   "cell_type": "code",
   "execution_count": 3,
   "metadata": {},
   "outputs": [],
   "source": [
    "df_err=pd.read_csv(\"1988_err.csv\")"
   ]
  },
  {
   "cell_type": "code",
   "execution_count": null,
   "metadata": {},
   "outputs": [],
   "source": []
  }
 ],
 "metadata": {
  "kernelspec": {
   "display_name": "Python 3",
   "language": "python",
   "name": "python3"
  },
  "language_info": {
   "codemirror_mode": {
    "name": "ipython",
    "version": 3
   },
   "file_extension": ".py",
   "mimetype": "text/x-python",
   "name": "python",
   "nbconvert_exporter": "python",
   "pygments_lexer": "ipython3",
   "version": "3.6.10"
  }
 },
 "nbformat": 4,
 "nbformat_minor": 4
}
